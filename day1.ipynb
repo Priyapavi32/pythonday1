{
 "cells": [
  {
   "cell_type": "code",
   "execution_count": 1,
   "id": "b474718c-0494-4885-a35c-c5f1a8c847fb",
   "metadata": {},
   "outputs": [
    {
     "name": "stdout",
     "output_type": "stream",
     "text": [
      "Hello world\n"
     ]
    }
   ],
   "source": [
    "print(\"Hello world\")"
   ]
  },
  {
   "cell_type": "code",
   "execution_count": 2,
   "id": "0f62cea7-6bbe-4fd6-b853-0097357ae9e3",
   "metadata": {},
   "outputs": [
    {
     "name": "stdout",
     "output_type": "stream",
     "text": [
      "priya\n"
     ]
    }
   ],
   "source": [
    "print(\"priya\")"
   ]
  },
  {
   "cell_type": "code",
   "execution_count": 3,
   "id": "4f0dfa41-51f9-4e88-b532-386afe426368",
   "metadata": {},
   "outputs": [
    {
     "name": "stdout",
     "output_type": "stream",
     "text": [
      "xyzpo\n"
     ]
    }
   ],
   "source": [
    "print(\"xyzpo\")"
   ]
  },
  {
   "cell_type": "code",
   "execution_count": 4,
   "id": "4bee36cd-9364-4a56-b7da-4e78d205029f",
   "metadata": {},
   "outputs": [
    {
     "name": "stdout",
     "output_type": "stream",
     "text": [
      "welcome\n"
     ]
    }
   ],
   "source": [
    "print(\"welcome\")"
   ]
  },
  {
   "cell_type": "code",
   "execution_count": 5,
   "id": "f5dfb262-53f7-47f9-853a-e1d2ea8dfd95",
   "metadata": {},
   "outputs": [
    {
     "name": "stdout",
     "output_type": "stream",
     "text": [
      "12345\n"
     ]
    }
   ],
   "source": [
    "print(\"12345\")"
   ]
  },
  {
   "cell_type": "code",
   "execution_count": 6,
   "id": "0890a97c-9082-45ab-ad35-addee264eb66",
   "metadata": {},
   "outputs": [
    {
     "name": "stdout",
     "output_type": "stream",
     "text": [
      "Hii\n"
     ]
    }
   ],
   "source": [
    "print(\"Hii\")"
   ]
  },
  {
   "cell_type": "code",
   "execution_count": 7,
   "id": "f22dda08-4d7e-465f-8dda-613ab6d9fa37",
   "metadata": {},
   "outputs": [
    {
     "name": "stdout",
     "output_type": "stream",
     "text": [
      "swe\n"
     ]
    }
   ],
   "source": [
    "print(\"swe\")"
   ]
  },
  {
   "cell_type": "code",
   "execution_count": 8,
   "id": "c10ce590-ce9f-4eff-92a2-399ec238c8ca",
   "metadata": {},
   "outputs": [
    {
     "name": "stdout",
     "output_type": "stream",
     "text": [
      "123xyz\n"
     ]
    }
   ],
   "source": [
    "print(\"123xyz\")"
   ]
  },
  {
   "cell_type": "code",
   "execution_count": 9,
   "id": "c718035e-ff27-4b1e-a9a4-ec10a0657eef",
   "metadata": {},
   "outputs": [
    {
     "name": "stdout",
     "output_type": "stream",
     "text": [
      "y=30\n"
     ]
    }
   ],
   "source": [
    "print(\"y=30\")"
   ]
  },
  {
   "cell_type": "code",
   "execution_count": 10,
   "id": "d76036f7-818d-44a5-ae9e-d4c1990b597f",
   "metadata": {},
   "outputs": [
    {
     "name": "stdout",
     "output_type": "stream",
     "text": [
      "1032 jaya\n"
     ]
    }
   ],
   "source": [
    "print(\"1032 jaya\")"
   ]
  },
  {
   "cell_type": "code",
   "execution_count": null,
   "id": "0182a02c-c75f-45d9-91d9-f06e71009cb1",
   "metadata": {},
   "outputs": [],
   "source": []
  }
 ],
 "metadata": {
  "kernelspec": {
   "display_name": "Python [conda env:base] *",
   "language": "python",
   "name": "conda-base-py"
  },
  "language_info": {
   "codemirror_mode": {
    "name": "ipython",
    "version": 3
   },
   "file_extension": ".py",
   "mimetype": "text/x-python",
   "name": "python",
   "nbconvert_exporter": "python",
   "pygments_lexer": "ipython3",
   "version": "3.12.7"
  }
 },
 "nbformat": 4,
 "nbformat_minor": 5
}
